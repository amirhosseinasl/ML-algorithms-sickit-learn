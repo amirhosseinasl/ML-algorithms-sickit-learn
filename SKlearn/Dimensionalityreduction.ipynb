{
 "cells": [
  {
   "cell_type": "code",
   "execution_count": 10,
   "id": "5b8b2a84-1c94-4b17-9b7f-71486eea18bd",
   "metadata": {},
   "outputs": [],
   "source": [
    "import pandas as pd\n",
    "import numpy as np\n",
    "import seaborn as sbn\n",
    "from sklearn.feature_selection import VarianceThreshold"
   ]
  },
  {
   "cell_type": "markdown",
   "id": "38a2cbbd-15b3-49fc-a2ef-befbfeef38c5",
   "metadata": {},
   "source": [
    "**Dimensionality reduction Based on Correlation**"
   ]
  },
  {
   "cell_type": "code",
   "execution_count": null,
   "id": "c4722a65-8c87-4629-b0d9-990acb6d5521",
   "metadata": {},
   "outputs": [],
   "source": [
    "cov = pd.read_csv('covtype.csv')\n",
    "x = cov.drop('Cover_Type' , axis = 1)\n",
    "y = cov['Cover_Type']\n",
    "y"
   ]
  },
  {
   "cell_type": "code",
   "execution_count": null,
   "id": "b399083f-b408-45c2-8dc3-b6c4217ca5bf",
   "metadata": {},
   "outputs": [],
   "source": [
    "cov.corr()"
   ]
  },
  {
   "cell_type": "code",
   "execution_count": null,
   "id": "90c29f86-85c9-4bd2-978a-47ff890f2999",
   "metadata": {},
   "outputs": [],
   "source": [
    "sbn.heatmap(cov.corr())"
   ]
  },
  {
   "cell_type": "code",
   "execution_count": 33,
   "id": "c5b2c2ab-bc6a-4d22-a2ec-412486670cfd",
   "metadata": {},
   "outputs": [],
   "source": [
    "most_corr = np.abs(cov.corr()['Cover_Type']).sort_values(ascending = False).iloc[1 : 7].index.to_list()"
   ]
  },
  {
   "cell_type": "code",
   "execution_count": 37,
   "id": "1ff7b8df-34d4-4bd6-a38c-e34eccc3f482",
   "metadata": {},
   "outputs": [],
   "source": [
    "corr_features = x[most_corr]"
   ]
  },
  {
   "cell_type": "code",
   "execution_count": null,
   "id": "b696a3fd-9b6c-45d8-a7e7-3de3af56f3ea",
   "metadata": {},
   "outputs": [],
   "source": [
    "corr_features"
   ]
  },
  {
   "cell_type": "markdown",
   "id": "c082f1e4-4afb-4368-bfb6-d2dcea097488",
   "metadata": {},
   "source": [
    "**Dimensionality reduction Based on Variance**"
   ]
  },
  {
   "cell_type": "code",
   "execution_count": null,
   "id": "45ac22be-0158-4c3a-af6b-2052f0ca1bbe",
   "metadata": {},
   "outputs": [],
   "source": [
    "varr = VarianceThreshold(threshold = 1)\n",
    "outcome = varr.fit_transform(x)\n",
    "outcome = pd.DataFrame(outcome , columns = varr.get_feature_names_out())\n",
    "outcome"
   ]
  }
 ],
 "metadata": {
  "kernelspec": {
   "display_name": "Python [conda env:base] *",
   "language": "python",
   "name": "conda-base-py"
  },
  "language_info": {
   "codemirror_mode": {
    "name": "ipython",
    "version": 3
   },
   "file_extension": ".py",
   "mimetype": "text/x-python",
   "name": "python",
   "nbconvert_exporter": "python",
   "pygments_lexer": "ipython3",
   "version": "3.12.7"
  }
 },
 "nbformat": 4,
 "nbformat_minor": 5
}
