{
 "cells": [
  {
   "cell_type": "code",
   "execution_count": 19,
   "id": "3fcffafd-c17a-4a0c-b97b-e722d47fc675",
   "metadata": {},
   "outputs": [],
   "source": [
    "import pandas as pd\n",
    "import numpy as np\n",
    "from sklearn.linear_model import LogisticRegression\n",
    "from sklearn.model_selection import train_test_split as tts\n",
    "from sklearn.preprocessing import PolynomialFeatures\n",
    "from sklearn.linear_model import LinearRegression\n",
    "from sklearn import metrics\n",
    "import seaborn as sb"
   ]
  },
  {
   "cell_type": "markdown",
   "id": "cecd0b69-dc7c-4429-b217-f88b843bec63",
   "metadata": {},
   "source": [
    "**PolynomialFeatures**"
   ]
  },
  {
   "cell_type": "code",
   "execution_count": 5,
   "id": "084f6cac-c7f9-4b1d-8935-fa610642fef8",
   "metadata": {},
   "outputs": [],
   "source": [
    "estate = pd.read_csv('Real estate.csv')\n",
    "x = estate.drop('Y house price of unit area', axis = 1)\n",
    "y = estate['Y house price of unit area']\n",
    "#sb.heatmap(estate.corr() , annot = True , cmap = 'YlGnBu')"
   ]
  },
  {
   "cell_type": "code",
   "execution_count": 7,
   "id": "b3a04d1b-a842-4e26-bfda-eb292205c8d7",
   "metadata": {},
   "outputs": [],
   "source": [
    "#sb.pairplot(estate)"
   ]
  },
  {
   "cell_type": "code",
   "execution_count": 9,
   "id": "dda1f364-e6a4-4557-a0b8-982214058dd9",
   "metadata": {},
   "outputs": [],
   "source": [
    "poly_conv = PolynomialFeatures(degree = 2 , include_bias = False)\n",
    "poly_features = poly_conv.fit_transform(x)"
   ]
  },
  {
   "cell_type": "code",
   "execution_count": 11,
   "id": "f3612cc7-b81e-4c26-9534-6dabb0fcbd1c",
   "metadata": {},
   "outputs": [],
   "source": [
    "X_train , X_test , y_train , y_test = tts(poly_features , y , test_size = 0.33 , shuffle = False)"
   ]
  },
  {
   "cell_type": "code",
   "execution_count": 13,
   "id": "3e904ec8-c6e9-4704-9389-9d53177eab2e",
   "metadata": {},
   "outputs": [],
   "source": [
    "poly_reg = LinearRegression()\n",
    "poly_reg.fit(X_train , y_train)\n",
    "y_pred = poly_reg.predict(X_test)"
   ]
  },
  {
   "cell_type": "code",
   "execution_count": 15,
   "id": "f3c575ef-d58e-492a-b02f-76678ce6f932",
   "metadata": {},
   "outputs": [
    {
     "data": {
      "text/html": [
       "<div>\n",
       "<style scoped>\n",
       "    .dataframe tbody tr th:only-of-type {\n",
       "        vertical-align: middle;\n",
       "    }\n",
       "\n",
       "    .dataframe tbody tr th {\n",
       "        vertical-align: top;\n",
       "    }\n",
       "\n",
       "    .dataframe thead th {\n",
       "        text-align: right;\n",
       "    }\n",
       "</style>\n",
       "<table border=\"1\" class=\"dataframe\">\n",
       "  <thead>\n",
       "    <tr style=\"text-align: right;\">\n",
       "      <th></th>\n",
       "      <th>Y_test</th>\n",
       "      <th>Y_pred</th>\n",
       "      <th>Residuls</th>\n",
       "    </tr>\n",
       "  </thead>\n",
       "  <tbody>\n",
       "    <tr>\n",
       "      <th>277</th>\n",
       "      <td>27.7</td>\n",
       "      <td>23.713161</td>\n",
       "      <td>3.986839</td>\n",
       "    </tr>\n",
       "    <tr>\n",
       "      <th>278</th>\n",
       "      <td>44.0</td>\n",
       "      <td>47.250506</td>\n",
       "      <td>-3.250506</td>\n",
       "    </tr>\n",
       "    <tr>\n",
       "      <th>279</th>\n",
       "      <td>31.1</td>\n",
       "      <td>40.571639</td>\n",
       "      <td>-9.471639</td>\n",
       "    </tr>\n",
       "    <tr>\n",
       "      <th>280</th>\n",
       "      <td>45.4</td>\n",
       "      <td>53.900642</td>\n",
       "      <td>-8.500642</td>\n",
       "    </tr>\n",
       "    <tr>\n",
       "      <th>281</th>\n",
       "      <td>44.8</td>\n",
       "      <td>55.305631</td>\n",
       "      <td>-10.505631</td>\n",
       "    </tr>\n",
       "  </tbody>\n",
       "</table>\n",
       "</div>"
      ],
      "text/plain": [
       "     Y_test     Y_pred   Residuls\n",
       "277    27.7  23.713161   3.986839\n",
       "278    44.0  47.250506  -3.250506\n",
       "279    31.1  40.571639  -9.471639\n",
       "280    45.4  53.900642  -8.500642\n",
       "281    44.8  55.305631 -10.505631"
      ]
     },
     "execution_count": 15,
     "metadata": {},
     "output_type": "execute_result"
    }
   ],
   "source": [
    "pd.DataFrame({'Y_test': y_test , 'Y_pred': y_pred , 'Residuls':(y_test-y_pred)}).head()"
   ]
  },
  {
   "cell_type": "code",
   "execution_count": 21,
   "id": "98b2cd31-00bf-4ee6-9d80-584643f73372",
   "metadata": {},
   "outputs": [],
   "source": [
    "mae = metrics.mean_absolute_error(y_pred , y_test)\n",
    "mse = metrics.mean_squared_error(y_pred , y_test)\n",
    "rmse = np.sqrt(mse)"
   ]
  },
  {
   "cell_type": "code",
   "execution_count": 35,
   "id": "6cad5ee8-8e5e-488f-994a-2f871eb6b615",
   "metadata": {},
   "outputs": [
    {
     "data": {
      "text/html": [
       "<div>\n",
       "<style scoped>\n",
       "    .dataframe tbody tr th:only-of-type {\n",
       "        vertical-align: middle;\n",
       "    }\n",
       "\n",
       "    .dataframe tbody tr th {\n",
       "        vertical-align: top;\n",
       "    }\n",
       "\n",
       "    .dataframe thead th {\n",
       "        text-align: right;\n",
       "    }\n",
       "</style>\n",
       "<table border=\"1\" class=\"dataframe\">\n",
       "  <thead>\n",
       "    <tr style=\"text-align: right;\">\n",
       "      <th></th>\n",
       "      <th>Metrics</th>\n",
       "    </tr>\n",
       "  </thead>\n",
       "  <tbody>\n",
       "    <tr>\n",
       "      <th>MAE</th>\n",
       "      <td>5.923736</td>\n",
       "    </tr>\n",
       "    <tr>\n",
       "      <th>MSE</th>\n",
       "      <td>60.110746</td>\n",
       "    </tr>\n",
       "    <tr>\n",
       "      <th>RMSE</th>\n",
       "      <td>7.753112</td>\n",
       "    </tr>\n",
       "  </tbody>\n",
       "</table>\n",
       "</div>"
      ],
      "text/plain": [
       "        Metrics\n",
       "MAE    5.923736\n",
       "MSE   60.110746\n",
       "RMSE   7.753112"
      ]
     },
     "execution_count": 35,
     "metadata": {},
     "output_type": "execute_result"
    }
   ],
   "source": [
    "pd.DataFrame([mae , mse , rmse] , index=['MAE' , 'MSE' , 'RMSE'] , columns=['Metrics'])"
   ]
  }
 ],
 "metadata": {
  "kernelspec": {
   "display_name": "Python [conda env:base] *",
   "language": "python",
   "name": "conda-base-py"
  },
  "language_info": {
   "codemirror_mode": {
    "name": "ipython",
    "version": 3
   },
   "file_extension": ".py",
   "mimetype": "text/x-python",
   "name": "python",
   "nbconvert_exporter": "python",
   "pygments_lexer": "ipython3",
   "version": "3.12.7"
  }
 },
 "nbformat": 4,
 "nbformat_minor": 5
}
