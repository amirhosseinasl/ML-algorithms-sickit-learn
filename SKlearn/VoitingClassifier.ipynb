{
 "cells": [
  {
   "cell_type": "code",
   "execution_count": 10,
   "id": "ec0de0ca-6c48-40da-b82e-7bf46c1a7eea",
   "metadata": {},
   "outputs": [],
   "source": [
    "import pandas as pd\n",
    "from sklearn.tree import DecisionTreeClassifier\n",
    "from sklearn.model_selection import train_test_split as tts\n",
    "from sklearn.ensemble import VotingClassifier\n",
    "from sklearn.metrics import accuracy_score\n",
    "from sklearn.datasets import load_breast_cancer"
   ]
  },
  {
   "cell_type": "code",
   "execution_count": 2,
   "id": "81babd91-3b40-4950-924c-bc493f200288",
   "metadata": {},
   "outputs": [],
   "source": [
    "x , y = load_breast_cancer(return_X_y = True , as_frame = True)\n",
    "X_train , X_test , y_train , y_test = tts(x , y , test_size = 0.33 , shuffle = False)"
   ]
  },
  {
   "cell_type": "code",
   "execution_count": null,
   "id": "6d9a5033-9575-45bc-a2b5-1027a63e3b95",
   "metadata": {},
   "outputs": [],
   "source": [
    "dt_models = [DecisionTreeClassifier(max_depth = i) for i in range(2 , 102)]\n",
    "for model in dt_models:\n",
    "    model.fit(X_train , y_train)\n",
    "dt_models"
   ]
  },
  {
   "cell_type": "code",
   "execution_count": null,
   "id": "91b8085b-60ce-45b6-bb1f-6c04c2080e86",
   "metadata": {},
   "outputs": [],
   "source": [
    "for model in dt_models:\n",
    "    y_pred   = model.predict(X_test)\n",
    "    accuracy = accuracy_score(y_test , y_pred)\n",
    "    print('accuracy score:' , accuracy)"
   ]
  },
  {
   "cell_type": "markdown",
   "id": "8fd18c6a-c268-42db-978f-cec2bfdc1533",
   "metadata": {},
   "source": [
    "**Voting Classifier**"
   ]
  },
  {
   "cell_type": "code",
   "execution_count": 23,
   "id": "0de6357d-5a5a-48be-8f1c-6fbfed2c0e59",
   "metadata": {},
   "outputs": [
    {
     "name": "stdout",
     "output_type": "stream",
     "text": [
      "accuracy score: 0.883\n"
     ]
    }
   ],
   "source": [
    "voting_class = VotingClassifier(estimators = [(f\"model_{i}\", model)for i, model in enumerate(dt_models)])\n",
    "voting_class.fit(X_train , y_train)\n",
    "voting_pred  = voting_class.predict(X_test)\n",
    "accuracy     = round(accuracy_score(y_test , voting_pred) , 3)\n",
    "print('accuracy score:' , accuracy)"
   ]
  }
 ],
 "metadata": {
  "kernelspec": {
   "display_name": "Python [conda env:base] *",
   "language": "python",
   "name": "conda-base-py"
  },
  "language_info": {
   "codemirror_mode": {
    "name": "ipython",
    "version": 3
   },
   "file_extension": ".py",
   "mimetype": "text/x-python",
   "name": "python",
   "nbconvert_exporter": "python",
   "pygments_lexer": "ipython3",
   "version": "3.12.7"
  }
 },
 "nbformat": 4,
 "nbformat_minor": 5
}
