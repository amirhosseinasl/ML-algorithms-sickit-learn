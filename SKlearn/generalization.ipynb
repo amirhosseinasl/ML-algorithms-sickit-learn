{
 "cells": [
  {
   "cell_type": "code",
   "execution_count": 20,
   "id": "8876b75c-1e4a-4085-8925-cf9b099d4b93",
   "metadata": {},
   "outputs": [],
   "source": [
    "import pandas as pd\n",
    "import numpy as np\n",
    "from sklearn.linear_model import LinearRegression\n",
    "from sklearn.model_selection import cross_validate"
   ]
  },
  {
   "cell_type": "markdown",
   "id": "7d72ed91-a52e-49ce-8087-a7242f659cbb",
   "metadata": {},
   "source": [
    "**generalization cross_validate**"
   ]
  },
  {
   "cell_type": "code",
   "execution_count": 22,
   "id": "d5209718-a46b-4da2-9dc7-73dd02e857c3",
   "metadata": {},
   "outputs": [],
   "source": [
    "house_prices = pd.read_csv('house-prices.csv')\n",
    "y = house_prices['Price']\n",
    "x = house_prices[['SqFt' , 'Bedrooms' , 'Bathrooms' , 'Offers']]\n",
    "lin_reg = LinearRegression()"
   ]
  },
  {
   "cell_type": "code",
   "execution_count": 24,
   "id": "540a0ab1-c851-413b-b2ae-1728cfc503d2",
   "metadata": {},
   "outputs": [],
   "source": [
    "result = cross_validate(lin_reg , x , y , cv = 5 , scoring = 'neg_mean_squared_error')"
   ]
  },
  {
   "cell_type": "code",
   "execution_count": 26,
   "id": "34636156-4bd1-4a0d-b50a-22a820eac7f6",
   "metadata": {},
   "outputs": [
    {
     "data": {
      "text/plain": [
       "{'fit_time': array([0.00232148, 0.0012691 , 0.00132966, 0.00223303, 0.0021348 ]),\n",
       " 'score_time': array([0.00214267, 0.00199652, 0.00199652, 0.00138879, 0.00104856]),\n",
       " 'test_score': array([-2.40848950e+08, -1.75771390e+08, -1.90711839e+08, -2.38584237e+08,\n",
       "        -3.23669680e+08])}"
      ]
     },
     "execution_count": 26,
     "metadata": {},
     "output_type": "execute_result"
    }
   ],
   "source": [
    "result"
   ]
  },
  {
   "cell_type": "code",
   "execution_count": 28,
   "id": "df5d853a-425f-4493-85ef-195594939be1",
   "metadata": {},
   "outputs": [
    {
     "data": {
      "text/plain": [
       "233917219.21424407"
      ]
     },
     "execution_count": 28,
     "metadata": {},
     "output_type": "execute_result"
    }
   ],
   "source": [
    "-np.mean(result['test_score'])"
   ]
  }
 ],
 "metadata": {
  "kernelspec": {
   "display_name": "Python [conda env:base] *",
   "language": "python",
   "name": "conda-base-py"
  },
  "language_info": {
   "codemirror_mode": {
    "name": "ipython",
    "version": 3
   },
   "file_extension": ".py",
   "mimetype": "text/x-python",
   "name": "python",
   "nbconvert_exporter": "python",
   "pygments_lexer": "ipython3",
   "version": "3.12.7"
  }
 },
 "nbformat": 4,
 "nbformat_minor": 5
}
